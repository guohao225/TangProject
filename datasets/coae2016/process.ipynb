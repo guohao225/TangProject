{
 "cells": [
  {
   "cell_type": "code",
   "execution_count": 27,
   "metadata": {
    "collapsed": true
   },
   "outputs": [],
   "source": [
    "import re\n",
    "relation_map = {\n",
    "    'cr2':'人物的出生日期',\n",
    "    'cr4':'人物的出生地',\n",
    "    'cr16':'人物的毕业院校',\n",
    "    'cr20':'人物的配偶',\n",
    "    'cr21':'人物的子女',\n",
    "    'cr28':'组织机构的高管',\n",
    "    'cr29':'组织机构的员工数',\n",
    "    'cr34':'组织机构的创始人',\n",
    "    'cr35':'组织机构的成立时间',\n",
    "    'cr37':'组织机构的总部地点'\n",
    "}\n",
    "train = open('./train_shuffle', 'r',  encoding='utf-8')\n",
    "lines  = train.readlines()\n",
    "\n",
    "def process_data(lines):\n",
    "    relations = []\n",
    "    error = 0\n",
    "    for line in lines:\n",
    "        idx, text, relation = line.strip().split('\\t')\n",
    "        pattern1 = r'<e1>(.*?)</e1>'\n",
    "        pattern2 = r'<e2>(.*?)</e2>'\n",
    "\n",
    "        match = re.search(pattern1, text)\n",
    "        e1_text = match.group(1)\n",
    "        e1_pos = match.start()\n",
    "        e1_end = match.end()\n",
    "\n",
    "        match2 = re.search(pattern2, text)\n",
    "        e2_text = match2.group(1)\n",
    "        e2_pos = match2.start()\n",
    "        e2_end =  match2.end()\n",
    "\n",
    "        ## 判断e1与e2的先后位置\n",
    "        if e1_pos < e2_pos:\n",
    "            text = text.replace('<e1>', \"\")\n",
    "            text = text.replace('</e1>', \"\")\n",
    "            e1_end = e1_end - len('<e1>')-len(\"</e1>\")\n",
    "            e2_pos = e2_pos - len('<e1>')-len(\"</e1>\")\n",
    "            e2_end = e2_end - len('<e1>')-len(\"</e1>\")\n",
    "            text =text.replace('<e2>', \"\")\n",
    "            text =text.replace('</e2>', \"\")\n",
    "            e2_end = e2_end - len('<e2>')-len(\"</e2>\")\n",
    "        else:\n",
    "            text = text.replace('<e2>', \"\")\n",
    "            text = text.replace('</e2>', \"\")\n",
    "            e2_end = e2_end - len('<e2>')-len(\"</e2>\")\n",
    "            e1_pos = e1_pos - len('<e2>')-len(\"</e2>\")\n",
    "            e1_end = e1_end - len('<e2>')-len(\"</e2>\")\n",
    "            text = text.replace('<e1>', \"\")\n",
    "            text = text.replace('</e1>', \"\")\n",
    "            e1_end = e1_end - len('<e1>')-len(\"</e1>\")\n",
    "        if text[e1_pos:e1_end] != e1_text or text[e2_pos:e2_end] != e2_text:\n",
    "            error+=1\n",
    "        relations.append({\n",
    "            'text':text,\n",
    "            'h':{\n",
    "                'name':e1_text,\n",
    "                'pos':[e1_pos, e1_end]\n",
    "            },\n",
    "            't':{\n",
    "                'name':e2_text,\n",
    "                'pos':[e2_pos, e2_end]\n",
    "            },\n",
    "            'relation':relation_map[relation]\n",
    "        })\n",
    "    return relations,error"
   ]
  },
  {
   "cell_type": "code",
   "execution_count": 28,
   "outputs": [],
   "source": [
    "import json\n",
    "test_data = open('./test_1_q_labels.txt','r',encoding='utf-8')\n",
    "test_data = test_data.readlines()\n",
    "relations,err = process_data(test_data)\n",
    "\n",
    "with open('./valid.txt', 'w', encoding='utf8') as f:\n",
    "    for item in relations:\n",
    "        f.write(json.dumps(item, ensure_ascii=False)+'\\n')"
   ],
   "metadata": {
    "collapsed": false
   }
  },
  {
   "cell_type": "code",
   "execution_count": null,
   "outputs": [],
   "source": [],
   "metadata": {
    "collapsed": false
   }
  }
 ],
 "metadata": {
  "kernelspec": {
   "display_name": "Python 3",
   "language": "python",
   "name": "python3"
  },
  "language_info": {
   "codemirror_mode": {
    "name": "ipython",
    "version": 2
   },
   "file_extension": ".py",
   "mimetype": "text/x-python",
   "name": "python",
   "nbconvert_exporter": "python",
   "pygments_lexer": "ipython2",
   "version": "2.7.6"
  }
 },
 "nbformat": 4,
 "nbformat_minor": 0
}
