{
 "cells": [
  {
   "cell_type": "code",
   "execution_count": null,
   "metadata": {},
   "outputs": [],
   "source": [
    "import tensorflow as tf\n",
    "A = tf.constant([[[1, 2, 3],[4, 5, 6]],[[7, 8, 9], [10, 11, 12]]], dtype=tf.float32)\n",
    "B = tf.constant([[[13, 14, 15], [16, 17, 18]],\n",
    "                     [[19, 20, 21], [22, 23, 24]]], dtype=tf.float32)"
   ]
  },
  {
   "cell_type": "code",
   "execution_count": null,
   "metadata": {},
   "outputs": [],
   "source": [
    "shape = A.shape"
   ]
  },
  {
   "cell_type": "code",
   "execution_count": null,
   "metadata": {},
   "outputs": [],
   "source": [
    "position_embedding = tf.Variable(tf.zeros(A.shape, dtype=tf.float32))"
   ]
  },
  {
   "cell_type": "code",
   "execution_count": null,
   "metadata": {},
   "outputs": [],
   "source": [
    "for i in range(shape[0]):\n",
    "    for j in range(shape[1]):\n",
    "        if j%2 == 0:\n",
    "            position_embedding[i,j,:].assign(A[i, j,:])\n",
    "        else:\n",
    "            position_embedding[i,j,:].assign(B[i, j,:])\n",
    "print(position_embedding)"
   ]
  },
  {
   "cell_type": "code",
   "execution_count": null,
   "metadata": {},
   "outputs": [],
   "source": [
    "from transformers import BertTokenizer\n",
    "tokenizer = BertTokenizer.from_pretrained(\"./bert_tiny\")"
   ]
  },
  {
   "cell_type": "code",
   "execution_count": null,
   "metadata": {},
   "outputs": [],
   "source": [
    "text= tokenizer.encode(\"这是一首简单的小情歌。哈哈哈哈。哈哈哈\")\n",
    "text"
   ]
  },
  {
   "cell_type": "code",
   "execution_count": 16,
   "metadata": {
    "ExecuteTime": {
     "end_time": "2023-10-08T08:15:54.587654800Z",
     "start_time": "2023-10-08T08:15:54.586689200Z"
    }
   },
   "outputs": [
    {
     "data": {
      "text/plain": "array([[[1, 0, 0, 0, 0],\n        [2, 0, 0, 0, 0],\n        [3, 0, 0, 0, 0]],\n\n       [[4, 0, 0, 0, 0],\n        [5, 0, 0, 0, 0],\n        [6, 0, 0, 0, 0]]])"
     },
     "execution_count": 16,
     "metadata": {},
     "output_type": "execute_result"
    }
   ],
   "source": [
    "import numpy as np\n",
    "\n",
    "# 创建一个维度为 (2, 3) 的数组\n",
    "a = np.array([[1, 2, 3], [4, 5, 6]])\n",
    "\n",
    "# 将数组扩展为形状为 (2, 3, 1) 的数组\n",
    "b = np.expand_dims(a, axis=2)\n",
    "\n",
    "# 将数组的最后一维填充 0，使其变为形状为 (2, 3, 5) 的数组\n",
    "c = np.pad(b, [(0, 0), (0, 0), (0, 4)], mode='constant')\n",
    "c"
   ]
  },
  {
   "cell_type": "code",
   "execution_count": 17,
   "outputs": [
    {
     "data": {
      "text/plain": "<tf.Tensor: shape=(2, 3, 5), dtype=int32, numpy=\narray([[[1, 0, 0, 0, 0],\n        [2, 0, 0, 0, 0],\n        [3, 0, 0, 0, 0]],\n\n       [[4, 0, 0, 0, 0],\n        [5, 0, 0, 0, 0],\n        [6, 0, 0, 0, 0]]])>"
     },
     "execution_count": 17,
     "metadata": {},
     "output_type": "execute_result"
    }
   ],
   "source": [
    "import tensorflow as tf\n",
    "# 创建一个维度为 (2, 3) 的张量\n",
    "a = tf.constant([[1, 2, 3], [4, 5, 6]])\n",
    "a = tf.expand_dims(a, axis=2)\n",
    "a = tf.pad(a, [(0,0),(0,0), (0,4)], mode='constant')\n",
    "a"
   ],
   "metadata": {
    "collapsed": false,
    "ExecuteTime": {
     "end_time": "2023-10-08T08:38:44.583703500Z",
     "start_time": "2023-10-08T08:38:44.579703300Z"
    }
   }
  },
  {
   "cell_type": "code",
   "execution_count": 18,
   "outputs": [
    {
     "data": {
      "text/plain": "<tf.Tensor: shape=(2, 3), dtype=int32, numpy=\narray([[1, 2, 3],\n       [4, 5, 6]])>"
     },
     "execution_count": 18,
     "metadata": {},
     "output_type": "execute_result"
    }
   ],
   "source": [
    "#对a沿最后一维求和\n",
    "a = tf.reduce_max(a, axis=2)\n",
    "a"
   ],
   "metadata": {
    "collapsed": false,
    "ExecuteTime": {
     "end_time": "2023-10-08T08:40:04.580960Z",
     "start_time": "2023-10-08T08:40:04.577941100Z"
    }
   }
  },
  {
   "cell_type": "code",
   "execution_count": 1,
   "outputs": [
    {
     "name": "stderr",
     "output_type": "stream",
     "text": [
      "Using TensorFlow backend.\n"
     ]
    },
    {
     "data": {
      "text/plain": "[2207, 2552, 2769, 2802, 872, 1518, 8043, 3341, 1416, 2207]"
     },
     "execution_count": 1,
     "metadata": {},
     "output_type": "execute_result"
    }
   ],
   "source": [
    "from bert4keras.tokenizers import Tokenizer\n",
    "tokenizer = Tokenizer('./bert_base/vocab.txt',token_start=None, token_end=None)\n",
    "token, seg = tokenizer.encode(\"小心我打你哟？来吧小宝贝\", maxlen=10)\n",
    "token"
   ],
   "metadata": {
    "collapsed": false
   }
  },
  {
   "cell_type": "code",
   "execution_count": 8,
   "outputs": [
    {
     "data": {
      "text/plain": "<tf.Tensor: shape=(2, 100, 768), dtype=float32, numpy=\narray([[[-0.1772466 ,  0.34175894,  0.64343834, ...,  0.41287312,\n          0.09676903, -0.61870056],\n        [-0.07967214,  0.4830034 ,  0.49469325, ...,  0.0173005 ,\n         -0.18170899, -0.6504049 ],\n        [-0.12041303,  0.43314874,  0.66853416, ..., -0.15939887,\n         -0.27360514, -0.6843047 ],\n        ...,\n        [-0.19310185,  0.30666983,  0.76597536, ..., -0.07399194,\n         -0.4595993 , -0.7638679 ],\n        [-0.20193541,  0.3124683 ,  0.8203735 , ..., -0.03621854,\n         -0.43797776, -0.7824234 ],\n        [-0.09351825,  0.29551134,  0.8195225 , ..., -0.06353907,\n         -0.42415088, -0.8495459 ]],\n\n       [[-0.1772466 ,  0.34175894,  0.64343834, ...,  0.41287312,\n          0.09676903, -0.61870056],\n        [-0.07967214,  0.4830034 ,  0.49469325, ...,  0.0173005 ,\n         -0.18170899, -0.6504049 ],\n        [-0.12041303,  0.43314874,  0.66853416, ..., -0.15939887,\n         -0.27360514, -0.6843047 ],\n        ...,\n        [-0.19310185,  0.30666983,  0.76597536, ..., -0.07399194,\n         -0.4595993 , -0.7638679 ],\n        [-0.20193541,  0.3124683 ,  0.8203735 , ..., -0.03621854,\n         -0.43797776, -0.7824234 ],\n        [-0.09351825,  0.29551134,  0.8195225 , ..., -0.06353907,\n         -0.42415088, -0.8495459 ]]], dtype=float32)>"
     },
     "execution_count": 8,
     "metadata": {},
     "output_type": "execute_result"
    }
   ],
   "source": [
    "import bert4keras.models as tool\n",
    "import tensorflow as tf\n",
    "import numpy as np\n",
    "bert = tool.build_transformer_model('./bert_base/bert_config.json',checkpoint_path='./bert_base/bert_model.ckpt' ,return_keras_model=True)\n",
    "##创建一个(2, 3)的随机tensor\n",
    "a = tf.random.uniform([2, 100])\n",
    "##创建一个(2, 3)的全零tensor\n",
    "b = tf.zeros_like(a)\n",
    "bert([a, b])"
   ],
   "metadata": {
    "collapsed": false
   }
  },
  {
   "cell_type": "code",
   "execution_count": null,
   "outputs": [],
   "source": [],
   "metadata": {
    "collapsed": false
   }
  }
 ],
 "metadata": {
  "kernelspec": {
   "display_name": "Python 3 (ipykernel)",
   "language": "python",
   "name": "python3"
  },
  "language_info": {
   "codemirror_mode": {
    "name": "ipython",
    "version": 3
   },
   "file_extension": ".py",
   "mimetype": "text/x-python",
   "name": "python",
   "nbconvert_exporter": "python",
   "pygments_lexer": "ipython3",
   "version": "3.8.16"
  },
  "pycharm": {
   "stem_cell": {
    "cell_type": "raw",
    "metadata": {
     "collapsed": false
    },
    "source": []
   }
  }
 },
 "nbformat": 4,
 "nbformat_minor": 1
}
