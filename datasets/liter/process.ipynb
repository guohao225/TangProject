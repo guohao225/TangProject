{
 "cells": [
  {
   "cell_type": "code",
   "execution_count": 4,
   "metadata": {
    "collapsed": true
   },
   "outputs": [
    {
     "name": "stdout",
     "output_type": "stream",
     "text": [
      "{\"relation\": \"Coreference\", \"h\": {\"name\": \"母亲\", \"pos\": [20, 22]}, \"t\": {\"name\": \"母亲\", \"pos\": [35, 37]}, \"text\": \"”。凡清明之时，总是屡屡哀思涌上心头，对母亲怀念的情愫越发细腻绵长。\\n母亲\"}\n",
      "\n"
     ]
    }
   ],
   "source": [
    "import json\n",
    "trainf=open('./train.txt','r',encoding='utf-8')\n",
    "testf=open('./test.txt','r',encoding='utf-8')\n",
    "vailf=open('./valid.txt','r',encoding='utf-8')\n",
    "lines=trainf.readlines()\n",
    "lines+=testf.readlines()\n",
    "lines+=vailf.readlines()"
   ]
  },
  {
   "cell_type": "code",
   "execution_count": 6,
   "outputs": [],
   "source": [
    "import random\n",
    "random.seed(42)\n",
    "random.shuffle(lines)\n",
    "traindata = lines[:int(len(lines)*0.75)]\n",
    "testdata = lines[int(len(lines)*0.75):len(lines)]\n",
    "with open('./meg_train.txt','w',encoding='utf-8') as f:\n",
    "    for item in traindata:\n",
    "        f.write(item)\n",
    "with open('./meg_test.txt','w',encoding='utf-8') as f:\n",
    "    for item in testdata:\n",
    "        f.write(item)"
   ],
   "metadata": {
    "collapsed": false
   }
  },
  {
   "cell_type": "code",
   "execution_count": null,
   "outputs": [],
   "source": [],
   "metadata": {
    "collapsed": false
   }
  }
 ],
 "metadata": {
  "kernelspec": {
   "display_name": "Python 3",
   "language": "python",
   "name": "python3"
  },
  "language_info": {
   "codemirror_mode": {
    "name": "ipython",
    "version": 2
   },
   "file_extension": ".py",
   "mimetype": "text/x-python",
   "name": "python",
   "nbconvert_exporter": "python",
   "pygments_lexer": "ipython2",
   "version": "2.7.6"
  }
 },
 "nbformat": 4,
 "nbformat_minor": 0
}
